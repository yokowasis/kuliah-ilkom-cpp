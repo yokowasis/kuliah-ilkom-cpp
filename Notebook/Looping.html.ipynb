{
  "cells": [
    {
      "attachments": {},
      "cell_type": "markdown",
      "metadata": {},
      "source": [
        "<style>\n",
        "   .jp-OutputPrompt.jp-OutputArea-prompt,\n",
        "   .jp-InputPrompt.jp-InputArea-prompt {\n",
        "      display: none;\n",
        "   }\n",
        "</style>\n",
        "\n",
        "# Soal\n",
        "\n",
        "1. Buatlah program sederhana menggunakan:  \n",
        "   a. Pengulangan for  \n",
        "   b. Pengulangan while dengan tampilan seperti pada output project dibawah ini :  \n",
        "     \n",
        "      ![image](./img/Picture1.png)  \n",
        "        \n",
        "   c. Buatlah\talgoritma dan flochart serta program menampilkan\tbilangan\tFibonacci menggunakan perintah while, Tampilan Output pada project sebagai berikut ini.  \n",
        "     \n",
        "     ![image](./img/Picture2.png)"
      ]
    },
    {
      "attachments": {},
      "cell_type": "markdown",
      "metadata": {},
      "source": [
        "# Jawaban"
      ]
    },
    {
      "attachments": {},
      "cell_type": "markdown",
      "metadata": {},
      "source": [
        "1.a."
      ]
    },
    {
      "cell_type": "code",
      "execution_count": 43,
      "metadata": {
        "vscode": {
          "languageId": "cpp"
        }
      },
      "outputs": [],
      "source": [
        "#include <iostream>\n",
        "using namespace std;"
      ]
    },
    {
      "cell_type": "code",
      "execution_count": 43,
      "metadata": {
        "vscode": {
          "languageId": "cpp"
        }
      },
      "outputs": [],
      "source": [
        "int main() {\n",
        "  int count = 0;\n",
        "  int i = 0;\n",
        "  cin >> count;\n",
        "  cout << \"Input [\" << count << \"]\" << endl;\n",
        "  while (i<count) {\n",
        "    cout << i << \" \";\n",
        "    i++;\n",
        "  }\n",
        "  return 0;\n",
        "}"
      ]
    },
    {
      "cell_type": "code",
      "execution_count": 45,
      "metadata": {
        "vscode": {
          "languageId": "cpp"
        }
      },
      "outputs": [
        {
          "name": "stdout",
          "output_type": "stream",
          "text": [
            "Input [4]\n",
            "0 1 2 3 "
          ]
        }
      ],
      "source": [
        "main();"
      ]
    }
  ],
  "metadata": {
    "kernelspec": {
      "display_name": "C++17",
      "language": "C++17",
      "name": "xcpp17"
    },
    "language_info": {
      "codemirror_mode": "text/x-c++src",
      "file_extension": ".cpp",
      "mimetype": "text/x-c++src",
      "name": "c++",
      "version": "17"
    },
    "orig_nbformat": 4
  },
  "nbformat": 4,
  "nbformat_minor": 2
}
